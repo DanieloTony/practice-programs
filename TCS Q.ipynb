{
 "cells": [
  {
   "cell_type": "code",
   "execution_count": 6,
   "metadata": {},
   "outputs": [
    {
     "name": "stdout",
     "output_type": "stream",
     "text": [
      "Time estimated: 25 minutes\n"
     ]
    }
   ],
   "source": [
    "W = int(input(\"enter the grams of clothes:\"))\n",
    "l = input(\"Enter the level\")\n",
    "\n",
    "\n",
    "if 1 <= W <= 2000 and l == \"L\":\n",
    "    print(f\"Time estimated: 25 minutes\")\n",
    "elif 2001 < W < 4000 and l == \"M\":\n",
    "    print(\"Time estimated 35 minutes\")\n",
    "elif W < 7000 and l == \"H\":\n",
    "    print(\"Time estimated: 45 minutes\")\n",
    "elif W > 7000:\n",
    "    print(\"OVERLOADED\")\n",
    "else:\n",
    "    print(\"INVALID\")  "
   ]
  },
  {
   "cell_type": "code",
   "execution_count": 10,
   "metadata": {},
   "outputs": [
    {
     "name": "stdout",
     "output_type": "stream",
     "text": [
      "apple\n",
      "a\n",
      "p\n",
      "paale\n"
     ]
    }
   ],
   "source": [
    "# swap two character in the string\n",
    "\n",
    "\n",
    "string = input(\"Enter the string: \")\n",
    "print(string)\n",
    "char1 = input(\"Enter first character: \")\n",
    "print(char1)\n",
    "char2 = input(\"Enter second character: \")\n",
    "print(char2)\n",
    "\n",
    "\n",
    "new_string = \"\"\n",
    "\n",
    "for c in string:\n",
    "    if c == char1:\n",
    "        new_string += char2 \n",
    "    elif c == char2:\n",
    "        new_string += char1 \n",
    "    else:\n",
    "        new_string += c  \n",
    "\n",
    "print(new_string)\n"
   ]
  },
  {
   "cell_type": "code",
   "execution_count": 12,
   "metadata": {},
   "outputs": [
    {
     "name": "stdout",
     "output_type": "stream",
     "text": [
      "1 \n",
      "2 4 \n",
      "1 3 5 \n",
      "2 4 6 8 \n",
      "1 3 5 7 9 \n"
     ]
    }
   ],
   "source": [
    "# pattern based on \n",
    "# n = 5\n",
    "#1\n",
    "#2 4\n",
    "#1 3 5\n",
    "#2 4 6 8\n",
    "#1 3 5 7 9\n",
    "\n",
    "n = int(input())\n",
    "for i in range(1,n+1):\n",
    "    if i % 2 != 0:\n",
    "        k = 1\n",
    "        for j in range(i):\n",
    "            \n",
    "            print(k, end = \" \")\n",
    "            k+=2\n",
    "    else:\n",
    "        k = 2\n",
    "        for j in range(i):\n",
    "            \n",
    "            print(k, end = \" \")\n",
    "            k += 2\n",
    "    print()"
   ]
  },
  {
   "cell_type": "code",
   "execution_count": null,
   "metadata": {},
   "outputs": [],
   "source": []
  }
 ],
 "metadata": {
  "kernelspec": {
   "display_name": "Python 3",
   "language": "python",
   "name": "python3"
  },
  "language_info": {
   "codemirror_mode": {
    "name": "ipython",
    "version": 3
   },
   "file_extension": ".py",
   "mimetype": "text/x-python",
   "name": "python",
   "nbconvert_exporter": "python",
   "pygments_lexer": "ipython3",
   "version": "3.13.2"
  }
 },
 "nbformat": 4,
 "nbformat_minor": 2
}
