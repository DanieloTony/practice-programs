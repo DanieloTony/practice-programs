{
 "cells": [
  {
   "cell_type": "code",
   "execution_count": 3,
   "metadata": {},
   "outputs": [
    {
     "name": "stdout",
     "output_type": "stream",
     "text": [
      "*\n",
      "**\n",
      "***\n",
      "****\n",
      "*****\n"
     ]
    }
   ],
   "source": [
    "# here a program for  * triangle\n",
    "a = int(input())\n",
    "\n",
    "for i in range (1,a+1):\n",
    "    print(i*(\"*\"))\n",
    "    "
   ]
  },
  {
   "cell_type": "code",
   "execution_count": 2,
   "metadata": {},
   "outputs": [
    {
     "name": "stdout",
     "output_type": "stream",
     "text": [
      "    *\n",
      "   ***\n",
      "  *****\n",
      " *******\n",
      "*********\n",
      " *******\n",
      "  *****\n",
      "   ***\n",
      "    *\n"
     ]
    }
   ],
   "source": [
    "# here the program for print a diamond\n",
    "\n",
    "n = 5\n",
    "\n",
    "for i in range(1, n + 1):\n",
    "    print(' ' *  (n - i)+ '*' *(2 * i - 1))\n",
    "\n",
    "\n",
    "for i in range(n - 1, 0, -1):\n",
    "    print(' ' * (n - i) + '*' * (2 * i - 1)) \n"
   ]
  },
  {
   "cell_type": "code",
   "execution_count": 26,
   "metadata": {},
   "outputs": [
    {
     "name": "stdout",
     "output_type": "stream",
     "text": [
      "\n",
      "A \n",
      "A B \n",
      "A B C \n",
      "A B C D \n",
      "A B C D E \n"
     ]
    }
   ],
   "source": [
    "# here a program for triangle alphabets\n",
    "\n",
    "a = int(input())\n",
    "A = 65\n",
    "for i in range(0,a+1):\n",
    "    for j in range(i):\n",
    "        print(chr(A+j),end = \" \")\n",
    "    print()"
   ]
  },
  {
   "cell_type": "code",
   "execution_count": null,
   "metadata": {},
   "outputs": [
    {
     "name": "stdout",
     "output_type": "stream",
     "text": [
      "      \n",
      "     A \n",
      "    A B \n",
      "   A B C \n",
      "  A B C D \n",
      " A B C D E \n"
     ]
    }
   ],
   "source": [
    "# here the program for pyramid alphabets\n",
    "\n",
    "a = int(input())\n",
    "\n",
    "for i in range (0,a+1):\n",
    "    print(\" \"* (n-i),end = \" \")\n",
    "    for j in range(i):\n",
    "        print(chr(65+j), end = \" \")\n",
    "    print()"
   ]
  },
  {
   "cell_type": "code",
   "execution_count": 29,
   "metadata": {},
   "outputs": [
    {
     "name": "stdout",
     "output_type": "stream",
     "text": [
      "      \n",
      "     A \n",
      "    A B \n",
      "   A B C \n",
      "  A B C D \n",
      " A B C D E \n",
      "  A B C D \n",
      "   A B C \n",
      "    A B \n",
      "     A \n"
     ]
    }
   ],
   "source": [
    "# here the program for diamond alphabets\n",
    "\n",
    "s = int(input())\n",
    "\n",
    "for i in range (0,s+1):\n",
    "    print(\" \"* (n-i),end = \" \")\n",
    "    for j in range(i):\n",
    "        print(chr(65+j), end = \" \")\n",
    "    print()\n",
    "    \n",
    "for i in range(s-1,0,-1):\n",
    "    print(\" \" * (s - i), end = \" \")\n",
    "    for j in range(i):\n",
    "        print(chr(65+j),end = \" \")\n",
    "    print()"
   ]
  }
 ],
 "metadata": {
  "kernelspec": {
   "display_name": "Python 3",
   "language": "python",
   "name": "python3"
  },
  "language_info": {
   "codemirror_mode": {
    "name": "ipython",
    "version": 3
   },
   "file_extension": ".py",
   "mimetype": "text/x-python",
   "name": "python",
   "nbconvert_exporter": "python",
   "pygments_lexer": "ipython3",
   "version": "3.13.1"
  }
 },
 "nbformat": 4,
 "nbformat_minor": 2
}
