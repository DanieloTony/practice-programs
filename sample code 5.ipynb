{
 "cells": [
  {
   "cell_type": "code",
   "execution_count": 8,
   "metadata": {},
   "outputs": [
    {
     "name": "stdout",
     "output_type": "stream",
     "text": [
      "Before swaping-> 34:56\n",
      "After swaping-> 56:34\n"
     ]
    }
   ],
   "source": [
    "a = int(input())\n",
    "b = int(input())\n",
    "print(f\"Before swaping-> {a}:{b}\")\n",
    "temp = a\n",
    "a = b\n",
    "b= temp\n",
    "print(f\"After swaping-> {a}:{b}\")"
   ]
  },
  {
   "cell_type": "code",
   "execution_count": 11,
   "metadata": {},
   "outputs": [
    {
     "name": "stdout",
     "output_type": "stream",
     "text": [
      "2/77 door no\n",
      "2nd street of anna salai\n",
      "guindy\n",
      "chennai\n"
     ]
    }
   ],
   "source": [
    "# here a program read address and display in multiple lines\n",
    "\n",
    "address = input()\n",
    "list_of_address = address.split(\",\")\n",
    "\n",
    "for lines in list_of_address:\n",
    "    print(lines.strip())"
   ]
  },
  {
   "cell_type": "code",
   "execution_count": 15,
   "metadata": {},
   "outputs": [
    {
     "name": "stdout",
     "output_type": "stream",
     "text": [
      "Simple interest : 100.00\n",
      "Compound interest: 102.50\n"
     ]
    }
   ],
   "source": [
    "# here the program to calculate the simple interest and compound interest.\n",
    "\n",
    "principal = float(input())\n",
    "rate = float(input())\n",
    "time = float(input())\n",
    "\n",
    "simple_interest = (principal * rate * time)/100\n",
    "compound_interest = principal * (pow((1 + rate / 100),time)) - principal\n",
    "\n",
    "print(f\"Simple interest : {simple_interest:.2f}\")\n",
    "print(f\"Compound interest: {compound_interest:.2f}\")\n"
   ]
  }
 ],
 "metadata": {
  "kernelspec": {
   "display_name": "Python 3",
   "language": "python",
   "name": "python3"
  },
  "language_info": {
   "codemirror_mode": {
    "name": "ipython",
    "version": 3
   },
   "file_extension": ".py",
   "mimetype": "text/x-python",
   "name": "python",
   "nbconvert_exporter": "python",
   "pygments_lexer": "ipython3",
   "version": "3.13.1"
  }
 },
 "nbformat": 4,
 "nbformat_minor": 2
}
