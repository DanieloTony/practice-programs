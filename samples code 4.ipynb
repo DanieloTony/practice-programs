{
 "cells": [
  {
   "cell_type": "code",
   "execution_count": 5,
   "metadata": {},
   "outputs": [
    {
     "name": "stdout",
     "output_type": "stream",
     "text": [
      "danielotony\n"
     ]
    }
   ],
   "source": [
    "# here the code for string concatenation\n",
    "\n",
    "\n",
    "string_1 = input()\n",
    "string_2 = input()\n",
    "\n",
    "print(string_1 + string_2 )"
   ]
  },
  {
   "cell_type": "code",
   "execution_count": 11,
   "metadata": {},
   "outputs": [
    {
     "name": "stdout",
     "output_type": "stream",
     "text": [
      " 'tony' in single quotes\n",
      " \"tony\" in double quotes\n",
      "'''tony''' in triple quotes\n"
     ]
    }
   ],
   "source": [
    "\n",
    "# here is the program to print the String in quotes\n",
    "\n",
    "String = input()\n",
    "\n",
    "\n",
    "print(f\" '{String}' in single quotes\")\n",
    "print(f' \"{String}\" in double quotes')\n",
    "print(f\"'''{String}''' in triple quotes\")\n"
   ]
  },
  {
   "cell_type": "code",
   "execution_count": 30,
   "metadata": {},
   "outputs": [
    {
     "name": "stdout",
     "output_type": "stream",
     "text": [
      "A: 65\n"
     ]
    }
   ],
   "source": [
    "# Here program for ASCII values for every character in string\n",
    "\n",
    "character = input()\n",
    "for char in character:\n",
    "    print(f\"{char}: {ord(char)}\")"
   ]
  },
  {
   "cell_type": "code",
   "execution_count": 50,
   "metadata": {},
   "outputs": [
    {
     "name": "stdout",
     "output_type": "stream",
     "text": [
      "TONY\n",
      "\n"
     ]
    }
   ],
   "source": [
    "# here the program for converting cases without using built in function\n",
    "\n",
    "\n",
    "character = input()\n",
    "uppercase = \"\"\n",
    "lowercase = \"\"\n",
    "\n",
    "\n",
    "for char in character:\n",
    "    if 'a'<= char <= 'z':\n",
    "        uppercase += chr(ord(char)- 32)\n",
    "    else:\n",
    "        lowercase += chr(ord(char)+ 32)\n",
    "        \n",
    "        \n",
    "print(uppercase)\n",
    "print(lowercase)       \n",
    "\n",
    "    \n",
    "    \n",
    "\n",
    "\n"
   ]
  },
  {
   "cell_type": "code",
   "execution_count": null,
   "metadata": {},
   "outputs": [],
   "source": []
  },
  {
   "cell_type": "code",
   "execution_count": null,
   "metadata": {},
   "outputs": [],
   "source": []
  }
 ],
 "metadata": {
  "kernelspec": {
   "display_name": "Python 3",
   "language": "python",
   "name": "python3"
  },
  "language_info": {
   "codemirror_mode": {
    "name": "ipython",
    "version": 3
   },
   "file_extension": ".py",
   "mimetype": "text/x-python",
   "name": "python",
   "nbconvert_exporter": "python",
   "pygments_lexer": "ipython3",
   "version": "3.13.1"
  }
 },
 "nbformat": 4,
 "nbformat_minor": 2
}
