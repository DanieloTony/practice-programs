{
 "cells": [
  {
   "cell_type": "code",
   "execution_count": 54,
   "metadata": {},
   "outputs": [
    {
     "name": "stdout",
     "output_type": "stream",
     "text": [
      "helloworld\n"
     ]
    }
   ],
   "source": [
    "# here the code for string concatenation\n",
    "\n",
    "\n",
    "string_1 = input()\n",
    "string_2 = input()\n",
    "\n",
    "print(string_1 + string_2 )"
   ]
  },
  {
   "cell_type": "code",
   "execution_count": 55,
   "metadata": {},
   "outputs": [
    {
     "name": "stdout",
     "output_type": "stream",
     "text": [
      " 'hello world' in single quotes\n",
      " \"hello world\" in double quotes\n",
      "'''hello world''' in triple quotes\n"
     ]
    }
   ],
   "source": [
    "\n",
    "# here is the program to print the String in quotes\n",
    "\n",
    "String = input()\n",
    "\n",
    "\n",
    "print(f\" '{String}' in single quotes\")\n",
    "print(f' \"{String}\" in double quotes')\n",
    "print(f\"'''{String}''' in triple quotes\")\n"
   ]
  },
  {
   "cell_type": "code",
   "execution_count": 56,
   "metadata": {},
   "outputs": [
    {
     "name": "stdout",
     "output_type": "stream",
     "text": [
      "A: 65\n",
      "a: 97\n"
     ]
    }
   ],
   "source": [
    "# Here program for ASCII values for every character in string\n",
    "\n",
    "character = input()\n",
    "for char in character:\n",
    "    print(f\"{char}: {ord(char)}\")"
   ]
  },
  {
   "cell_type": "code",
   "execution_count": 58,
   "metadata": {},
   "outputs": [
    {
     "name": "stdout",
     "output_type": "stream",
     "text": [
      "HELLOWORLD\n"
     ]
    }
   ],
   "source": [
    "# here the program for converting cases without using built in function\n",
    "\n",
    "\n",
    "character = input()\n",
    "uppercase = \"\"\n",
    "\n",
    "\n",
    "for char in character:\n",
    "    if 'a'<= char <= 'z':\n",
    "        uppercase += chr(ord(char)- 32)\n",
    "        \n",
    "print(uppercase)      \n",
    "\n",
    "    \n",
    "    \n",
    "\n",
    "\n"
   ]
  },
  {
   "cell_type": "code",
   "execution_count": 63,
   "metadata": {},
   "outputs": [
    {
     "name": "stdout",
     "output_type": "stream",
     "text": [
      "hello\n"
     ]
    }
   ],
   "source": [
    "# here the program for converting cases without using built in function\n",
    "\n",
    "\n",
    "characterS = input()\n",
    "lowercase = \"\"\n",
    "\n",
    "\n",
    "for char in characterS:\n",
    "    if 'A'<= char <= 'Z':\n",
    "        lowercase += chr(ord(char)+ 32)\n",
    "\n",
    "print(lowercase)       \n"
   ]
  },
  {
   "cell_type": "code",
   "execution_count": null,
   "metadata": {},
   "outputs": [],
   "source": []
  }
 ],
 "metadata": {
  "kernelspec": {
   "display_name": "Python 3",
   "language": "python",
   "name": "python3"
  },
  "language_info": {
   "codemirror_mode": {
    "name": "ipython",
    "version": 3
   },
   "file_extension": ".py",
   "mimetype": "text/x-python",
   "name": "python",
   "nbconvert_exporter": "python",
   "pygments_lexer": "ipython3",
   "version": "3.13.1"
  }
 },
 "nbformat": 4,
 "nbformat_minor": 2
}
