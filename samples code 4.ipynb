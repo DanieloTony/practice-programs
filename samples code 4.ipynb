{
 "cells": [
  {
   "cell_type": "code",
   "execution_count": 65,
   "metadata": {},
   "outputs": [
    {
     "name": "stdout",
     "output_type": "stream",
     "text": [
      "string_1 is  hello\n",
      "string_2 is  world\n",
      "after concatenation: helloworld\n"
     ]
    }
   ],
   "source": [
    "# here the code for string concatenation\n",
    "\n",
    "\n",
    "string_1 = input()\n",
    "string_2 = input()\n",
    "print(\"string_1 is \",string_1)\n",
    "print(\"string_2 is \",string_2)\n",
    "print(\"after concatenation:\",string_1 + string_2 )"
   ]
  },
  {
   "cell_type": "code",
   "execution_count": 73,
   "metadata": {},
   "outputs": [
    {
     "name": "stdout",
     "output_type": "stream",
     "text": [
      "The given string: Python is object oriented programming language \n",
      "\n",
      " 'Python is object oriented programming language' in single quotes\n",
      " \"Python is object oriented programming language\" in double quotes\n",
      "'''Python is object oriented programming language''' in triple quotes\n"
     ]
    }
   ],
   "source": [
    "\n",
    "# here is the program to print the String in quotes\n",
    "\n",
    "String = input()\n",
    "print(\"The given string:\",String, \"\\n\")\n",
    "\n",
    "print(f\" '{String}' in single quotes\")\n",
    "print(f' \"{String}\" in double quotes')\n",
    "print(f\"'''{String}''' in triple quotes\")\n"
   ]
  },
  {
   "cell_type": "code",
   "execution_count": 75,
   "metadata": {},
   "outputs": [
    {
     "name": "stdout",
     "output_type": "stream",
     "text": [
      "The given character: Python \n",
      "\n",
      "P: 80\n",
      "y: 121\n",
      "t: 116\n",
      "h: 104\n",
      "o: 111\n",
      "n: 110\n"
     ]
    }
   ],
   "source": [
    "# Here program for ASCII values for every character in string\n",
    "\n",
    "character = input()\n",
    "print(\"The given character:\",character,\"\\n\")\n",
    "for char in character:\n",
    "    print(f\"{char}: {ord(char)}\")"
   ]
  },
  {
   "cell_type": "code",
   "execution_count": 81,
   "metadata": {},
   "outputs": [
    {
     "name": "stdout",
     "output_type": "stream",
     "text": [
      "The given lowercase :  python \n",
      "\n",
      "convertes uppercase: PYTHON\n"
     ]
    }
   ],
   "source": [
    "# here the program for converting cases without using built in function\n",
    "\n",
    "\n",
    "Character = input()\n",
    "print(\"The given lowercase : \",Character,\"\\n\")\n",
    "uppercase = \"\"\n",
    "\n",
    "\n",
    "for char in Character:\n",
    "    if 'a'<= char <= 'z':\n",
    "        uppercase += chr(ord(char)- 32)\n",
    "        \n",
    "print(\"convertes uppercase:\",uppercase)      \n",
    "\n",
    "    \n",
    "    \n",
    "\n",
    "\n"
   ]
  },
  {
   "cell_type": "code",
   "execution_count": 79,
   "metadata": {},
   "outputs": [
    {
     "name": "stdout",
     "output_type": "stream",
     "text": [
      "The given uppercase is:  PYTHON \n",
      "\n",
      "The converted lowercase: python\n"
     ]
    }
   ],
   "source": [
    "# here the program for converting cases without using built in function\n",
    "\n",
    "\n",
    "characterS = input()\n",
    "print(\"The given uppercase is: \",characterS,\"\\n\")\n",
    "lowercase = \"\"\n",
    "\n",
    "\n",
    "for char in characterS:\n",
    "    if 'A'<= char <= 'Z':\n",
    "        lowercase += chr(ord(char)+ 32)\n",
    "\n",
    "print(\"The converted lowercase:\",lowercase)       \n"
   ]
  },
  {
   "cell_type": "code",
   "execution_count": null,
   "metadata": {},
   "outputs": [],
   "source": []
  }
 ],
 "metadata": {
  "kernelspec": {
   "display_name": "Python 3",
   "language": "python",
   "name": "python3"
  },
  "language_info": {
   "codemirror_mode": {
    "name": "ipython",
    "version": 3
   },
   "file_extension": ".py",
   "mimetype": "text/x-python",
   "name": "python",
   "nbconvert_exporter": "python",
   "pygments_lexer": "ipython3",
   "version": "3.13.1"
  }
 },
 "nbformat": 4,
 "nbformat_minor": 2
}
